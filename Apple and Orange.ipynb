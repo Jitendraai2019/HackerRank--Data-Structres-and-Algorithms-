{
 "cells": [
  {
   "cell_type": "code",
   "execution_count": 2,
   "metadata": {},
   "outputs": [
    {
     "name": "stdout",
     "output_type": "stream",
     "text": [
      "apple orange\n"
     ]
    },
    {
     "data": {
      "text/plain": [
       "list"
      ]
     },
     "execution_count": 2,
     "metadata": {},
     "output_type": "execute_result"
    }
   ],
   "source": [
    "type(input().split())    # .split function always returns a integer "
   ]
  },
  {
   "cell_type": "code",
   "execution_count": 12,
   "metadata": {},
   "outputs": [
    {
     "name": "stdout",
     "output_type": "stream",
     "text": [
      "8\n",
      "9\n",
      "10\n"
     ]
    }
   ],
   "source": [
    "a = [4,5,6]\n",
    "for i in range( len(a)):\n",
    "    a[i] += 4\n",
    "    print(a[i])\n"
   ]
  },
  {
   "cell_type": "code",
   "execution_count": 13,
   "metadata": {},
   "outputs": [
    {
     "data": {
      "text/plain": [
       "[8, 9, 10]"
      ]
     },
     "execution_count": 13,
     "metadata": {},
     "output_type": "execute_result"
    }
   ],
   "source": [
    "a"
   ]
  },
  {
   "cell_type": "code",
   "execution_count": 9,
   "metadata": {},
   "outputs": [
    {
     "ename": "TypeError",
     "evalue": "'int' object is not iterable",
     "output_type": "error",
     "traceback": [
      "\u001b[1;31m---------------------------------------------------------------------------\u001b[0m",
      "\u001b[1;31mTypeError\u001b[0m                                 Traceback (most recent call last)",
      "\u001b[1;32m<ipython-input-9-5520bda31760>\u001b[0m in \u001b[0;36m<module>\u001b[1;34m\u001b[0m\n\u001b[1;32m----> 1\u001b[1;33m \u001b[0ma\u001b[0m \u001b[1;33m+\u001b[0m\u001b[0mlist\u001b[0m\u001b[1;33m(\u001b[0m\u001b[1;36m4\u001b[0m\u001b[1;33m)\u001b[0m\u001b[1;33m\u001b[0m\u001b[1;33m\u001b[0m\u001b[0m\n\u001b[0m",
      "\u001b[1;31mTypeError\u001b[0m: 'int' object is not iterable"
     ]
    }
   ],
   "source": []
  },
  {
   "cell_type": "code",
   "execution_count": null,
   "metadata": {},
   "outputs": [],
   "source": [
    "#!/bin/python3\n",
    "\n",
    "import math\n",
    "import os\n",
    "import random\n",
    "import re\n",
    "import sys\n",
    "\n",
    "# Complete the countApplesAndOranges function below.\n",
    "def countApplesAndOranges(s, t, a, b, apples, oranges):\n",
    "\n",
    "    count_apple =0\n",
    "    count_orange =0\n",
    "    for i in range(len(apples)):\n",
    "        apples[i] += a\n",
    "        if apples[i] >= s and apples[i] <= t:\n",
    "            count_apple += 1    \n",
    "    print(count_apple)\n",
    "    for j in range(len(oranges)) :\n",
    "        oranges[j] += b\n",
    "        if oranges[j] >= s and oranges[j] <= t:\n",
    "            count_orange += 1\n",
    "\n",
    "    print(count_orange)\n",
    "\n",
    "if __name__ == '__main__':\n",
    "    st = input().split()\n",
    "\n",
    "    s = int(st[0])\n",
    "\n",
    "    t = int(st[1])\n",
    "\n",
    "    ab = input().split()\n",
    "\n",
    "    a = int(ab[0])\n",
    "\n",
    "    b = int(ab[1])\n",
    "\n",
    "    mn = input().split()\n",
    "\n",
    "    m = int(mn[0])\n",
    "\n",
    "    n = int(mn[1])\n",
    "\n",
    "    apples = list(map(int, input().rstrip().split()))\n",
    "\n",
    "    oranges = list(map(int, input().rstrip().split()))\n",
    "\n",
    "    countApplesAndOranges(s, t, a, b, apples, oranges)\n",
    "\n",
    "\n"
   ]
  }
 ],
 "metadata": {
  "kernelspec": {
   "display_name": "Python 3",
   "language": "python",
   "name": "python3"
  },
  "language_info": {
   "codemirror_mode": {
    "name": "ipython",
    "version": 3
   },
   "file_extension": ".py",
   "mimetype": "text/x-python",
   "name": "python",
   "nbconvert_exporter": "python",
   "pygments_lexer": "ipython3",
   "version": "3.7.3"
  }
 },
 "nbformat": 4,
 "nbformat_minor": 2
}
