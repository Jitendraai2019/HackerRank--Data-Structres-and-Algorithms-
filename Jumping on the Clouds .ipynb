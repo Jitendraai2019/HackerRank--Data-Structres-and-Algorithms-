{
 "cells": [
  {
   "cell_type": "code",
   "execution_count": 10,
   "metadata": {},
   "outputs": [],
   "source": [
    "def steps(arr):\n",
    "    \n",
    "    jump = 0\n",
    "    i =0\n",
    "    while len(arr)-1 > i:\n",
    "        \n",
    "        if arr[i+2] == 1 or i+2 == len(arr):\n",
    "            i  +=1\n",
    "            jump +=1\n",
    "           \n",
    "        else :\n",
    "            i +=2\n",
    "            jump +=1\n",
    "            \n",
    "    return jump"
   ]
  },
  {
   "cell_type": "code",
   "execution_count": 11,
   "metadata": {},
   "outputs": [
    {
     "data": {
      "text/plain": [
       "3"
      ]
     },
     "execution_count": 11,
     "metadata": {},
     "output_type": "execute_result"
    }
   ],
   "source": [
    "arr = [0,1,0,0,0,1,0]\n",
    "steps(arr)"
   ]
  },
  {
   "cell_type": "code",
   "execution_count": 12,
   "metadata": {},
   "outputs": [],
   "source": [
    "def jumpingOnClouds(c):         ### correct one without any run time error\n",
    "    jumps = 0\n",
    "    i = 0\n",
    "\n",
    "    while i < len(c)-1:\n",
    "\n",
    "        if (i+2 == len(c ))or(c[i+2] == 1) :\n",
    "            i +=1\n",
    "            jumps += 1\n",
    "        else :\n",
    "            i += 2\n",
    "            jumps += 1\n",
    "    return jumps"
   ]
  },
  {
   "cell_type": "code",
   "execution_count": null,
   "metadata": {},
   "outputs": [],
   "source": []
  }
 ],
 "metadata": {
  "kernelspec": {
   "display_name": "Python 3",
   "language": "python",
   "name": "python3"
  },
  "language_info": {
   "codemirror_mode": {
    "name": "ipython",
    "version": 3
   },
   "file_extension": ".py",
   "mimetype": "text/x-python",
   "name": "python",
   "nbconvert_exporter": "python",
   "pygments_lexer": "ipython3",
   "version": "3.7.3"
  }
 },
 "nbformat": 4,
 "nbformat_minor": 2
}
