{
 "cells": [
  {
   "cell_type": "code",
   "execution_count": 9,
   "metadata": {},
   "outputs": [],
   "source": [
    "def breaking_record(scores):\n",
    "    \n",
    "    count_max =0\n",
    "    count_min =0\n",
    "    max_score = scores[0]\n",
    "    min_score = scores[0]\n",
    "    arr =[]\n",
    "    \n",
    "    for i in range(len(scores)):\n",
    "        \n",
    "        if scores[i] > max_score :\n",
    "            max_score = scores[i]\n",
    "            count_max += 1\n",
    "            \n",
    "        elif scores[i] < min_score:\n",
    "            min_score = scores[i]\n",
    "            count_min += 1\n",
    "    \n",
    "    arr.append(count_max)\n",
    "    arr.append(count_min)\n",
    "    \n",
    "    return arr\n",
    "        \n",
    "        "
   ]
  },
  {
   "cell_type": "code",
   "execution_count": 10,
   "metadata": {},
   "outputs": [],
   "source": [
    "scores = [10, 5, 20, 20, 4, 5, 2, 25, 1]"
   ]
  },
  {
   "cell_type": "code",
   "execution_count": 11,
   "metadata": {},
   "outputs": [
    {
     "data": {
      "text/plain": [
       "[2, 4]"
      ]
     },
     "execution_count": 11,
     "metadata": {},
     "output_type": "execute_result"
    }
   ],
   "source": [
    "breaking_record(scores)"
   ]
  },
  {
   "cell_type": "code",
   "execution_count": null,
   "metadata": {},
   "outputs": [],
   "source": []
  }
 ],
 "metadata": {
  "kernelspec": {
   "display_name": "Python 3",
   "language": "python",
   "name": "python3"
  },
  "language_info": {
   "codemirror_mode": {
    "name": "ipython",
    "version": 3
   },
   "file_extension": ".py",
   "mimetype": "text/x-python",
   "name": "python",
   "nbconvert_exporter": "python",
   "pygments_lexer": "ipython3",
   "version": "3.7.3"
  }
 },
 "nbformat": 4,
 "nbformat_minor": 2
}
