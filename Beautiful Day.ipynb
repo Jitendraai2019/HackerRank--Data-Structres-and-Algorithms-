{
 "cells": [
  {
   "cell_type": "code",
   "execution_count": 13,
   "metadata": {},
   "outputs": [],
   "source": [
    "def beautifulDays(i, j, k):\n",
    "\n",
    "    beautiful_day = 0\n",
    "    \n",
    "    for i in range(i,j+1):\n",
    "        rev_num = 0\n",
    "        num = i\n",
    "        while num >0:\n",
    "            rem = num %10\n",
    "            num = num//10\n",
    "            rev_num = rev_num * 10 + rem\n",
    "        print(rev_num,end = ' ')\n",
    "        print('\\n')\n",
    "        print(abs(i - rev_num))\n",
    "        if abs(i - rev_num) % k == 0:\n",
    "            beautiful_day += 1\n",
    "\n",
    "    return beautiful_day"
   ]
  },
  {
   "cell_type": "code",
   "execution_count": 14,
   "metadata": {},
   "outputs": [
    {
     "name": "stdout",
     "output_type": "stream",
     "text": [
      "2 \n",
      "\n",
      "18\n",
      "12 \n",
      "\n",
      "9\n",
      "22 \n",
      "\n",
      "0\n",
      "32 \n",
      "\n",
      "9\n"
     ]
    },
    {
     "data": {
      "text/plain": [
       "2"
      ]
     },
     "execution_count": 14,
     "metadata": {},
     "output_type": "execute_result"
    }
   ],
   "source": [
    "beautifulDays(20,23,6)"
   ]
  },
  {
   "cell_type": "code",
   "execution_count": 12,
   "metadata": {},
   "outputs": [
    {
     "data": {
      "text/plain": [
       "13"
      ]
     },
     "execution_count": 12,
     "metadata": {},
     "output_type": "execute_result"
    }
   ],
   "source": [
    "abs(21-34)"
   ]
  },
  {
   "cell_type": "code",
   "execution_count": null,
   "metadata": {},
   "outputs": [],
   "source": []
  }
 ],
 "metadata": {
  "kernelspec": {
   "display_name": "Python 3",
   "language": "python",
   "name": "python3"
  },
  "language_info": {
   "codemirror_mode": {
    "name": "ipython",
    "version": 3
   },
   "file_extension": ".py",
   "mimetype": "text/x-python",
   "name": "python",
   "nbconvert_exporter": "python",
   "pygments_lexer": "ipython3",
   "version": "3.7.3"
  }
 },
 "nbformat": 4,
 "nbformat_minor": 2
}
