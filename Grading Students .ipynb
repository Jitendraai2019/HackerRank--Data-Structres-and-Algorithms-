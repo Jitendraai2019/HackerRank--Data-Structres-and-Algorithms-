{
 "cells": [
  {
   "cell_type": "code",
   "execution_count": 4,
   "metadata": {},
   "outputs": [],
   "source": [
    "import math\n",
    "def gradingStudents(grades):\n",
    "    # Write your code here\n",
    "    for i in grades:\n",
    "        if i >= 38:\n",
    "            next_num = math.ceil(i)*5\n",
    "            \n",
    "            if (next_num - i) < 3:\n",
    "                i = next_num\n",
    "        else :\n",
    "            pass\n",
    "    return grades"
   ]
  },
  {
   "cell_type": "code",
   "execution_count": 5,
   "metadata": {},
   "outputs": [],
   "source": [
    "arr = [73,67,38,33]"
   ]
  },
  {
   "cell_type": "code",
   "execution_count": 6,
   "metadata": {},
   "outputs": [
    {
     "data": {
      "text/plain": [
       "[73, 67, 38, 33]"
      ]
     },
     "execution_count": 6,
     "metadata": {},
     "output_type": "execute_result"
    }
   ],
   "source": [
    "gradingStudents(arr)"
   ]
  },
  {
   "cell_type": "code",
   "execution_count": 14,
   "metadata": {},
   "outputs": [],
   "source": [
    "def fun(arr):\n",
    "    for i in arr:\n",
    "        print(i)\n",
    "        if i >=38:\n",
    "            i = 1\n",
    "            print(i)\n",
    "    return arr        \n",
    "        "
   ]
  },
  {
   "cell_type": "code",
   "execution_count": 15,
   "metadata": {},
   "outputs": [
    {
     "name": "stdout",
     "output_type": "stream",
     "text": [
      "73\n",
      "1\n",
      "67\n",
      "1\n",
      "38\n",
      "1\n",
      "33\n"
     ]
    },
    {
     "data": {
      "text/plain": [
       "[73, 67, 38, 33]"
      ]
     },
     "execution_count": 15,
     "metadata": {},
     "output_type": "execute_result"
    }
   ],
   "source": [
    "fun(arr)"
   ]
  },
  {
   "cell_type": "code",
   "execution_count": 50,
   "metadata": {},
   "outputs": [],
   "source": [
    "def grade_change(grades):\n",
    "    grade_list = list()\n",
    "    next_num = 0\n",
    "    for i in range(len(grades)):\n",
    "        if grades[i] >= 38:\n",
    "            next_num = math.ceil((grades[i]/5))*5\n",
    "            print(math.ceil(grades[i]))\n",
    "            print(next_num)\n",
    "            n = next_num - grades[i]\n",
    "            if n < 3:\n",
    "                grade_list.append(next_num)\n",
    "        else :\n",
    "            grade_list.append(grades[i])\n",
    "    return grade_list\n",
    "    \n",
    "        "
   ]
  },
  {
   "cell_type": "code",
   "execution_count": 51,
   "metadata": {},
   "outputs": [
    {
     "name": "stdout",
     "output_type": "stream",
     "text": [
      "73\n",
      "75\n",
      "67\n",
      "70\n",
      "38\n",
      "40\n"
     ]
    },
    {
     "data": {
      "text/plain": [
       "[75, 40, 33]"
      ]
     },
     "execution_count": 51,
     "metadata": {},
     "output_type": "execute_result"
    }
   ],
   "source": [
    "grade_change(arr)"
   ]
  },
  {
   "cell_type": "code",
   "execution_count": 25,
   "metadata": {},
   "outputs": [],
   "source": [
    "x = math.ceil(45.3)"
   ]
  },
  {
   "cell_type": "code",
   "execution_count": 26,
   "metadata": {},
   "outputs": [
    {
     "data": {
      "text/plain": [
       "46"
      ]
     },
     "execution_count": 26,
     "metadata": {},
     "output_type": "execute_result"
    }
   ],
   "source": [
    "x"
   ]
  },
  {
   "cell_type": "code",
   "execution_count": 56,
   "metadata": {},
   "outputs": [],
   "source": [
    "def gradingStudents(grades):\n",
    "    \n",
    "    for i in grades:\n",
    "        if i >= 38:\n",
    "            next_num = math.ceil(i/5)*5\n",
    "            print(i)\n",
    "            \n",
    "            if (next_num - i) < 3:\n",
    "                i = next_num\n",
    "                print(i)\n",
    "        else :\n",
    "            pass\n",
    "    return grades"
   ]
  },
  {
   "cell_type": "code",
   "execution_count": 57,
   "metadata": {},
   "outputs": [
    {
     "name": "stdout",
     "output_type": "stream",
     "text": [
      "73\n",
      "75\n",
      "67\n",
      "38\n",
      "40\n"
     ]
    },
    {
     "data": {
      "text/plain": [
       "[73, 67, 38, 33]"
      ]
     },
     "execution_count": 57,
     "metadata": {},
     "output_type": "execute_result"
    }
   ],
   "source": [
    "arr= [73, 67, 38, 33]\n",
    "gradingStudents(arr)"
   ]
  },
  {
   "cell_type": "code",
   "execution_count": null,
   "metadata": {},
   "outputs": [],
   "source": []
  }
 ],
 "metadata": {
  "kernelspec": {
   "display_name": "Python 3",
   "language": "python",
   "name": "python3"
  },
  "language_info": {
   "codemirror_mode": {
    "name": "ipython",
    "version": 3
   },
   "file_extension": ".py",
   "mimetype": "text/x-python",
   "name": "python",
   "nbconvert_exporter": "python",
   "pygments_lexer": "ipython3",
   "version": "3.7.3"
  }
 },
 "nbformat": 4,
 "nbformat_minor": 2
}
