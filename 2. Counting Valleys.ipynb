{
 "cells": [
  {
   "cell_type": "code",
   "execution_count": 3,
   "metadata": {},
   "outputs": [],
   "source": [
    "def count_valleys(path):\n",
    "    \n",
    "    num_of_valleys = 0\n",
    "    altitude = 0\n",
    "    \n",
    "    for direction in path :\n",
    "    \n",
    "        if direction =='U':\n",
    "            \n",
    "            if altitude == -1:\n",
    "                num_of_valleys += 1\n",
    "            altitude += 1\n",
    "            \n",
    "        if direction == 'D':\n",
    "            \n",
    "            altitude -= 1\n",
    "            \n",
    "    return num_of_valleys"
   ]
  },
  {
   "cell_type": "code",
   "execution_count": 4,
   "metadata": {},
   "outputs": [
    {
     "name": "stdout",
     "output_type": "stream",
     "text": [
      "Enter no of units : 8\n",
      "Enter a path : UDDDUDUU\n",
      "1\n"
     ]
    }
   ],
   "source": [
    "if __name__ == '__main__':\n",
    "    \n",
    "    #no_of_units = int(input('Enter no of units : '))\n",
    "    path = input('Enter a path : ')\n",
    "    \n",
    "    print(count_valleys(path))"
   ]
  },
  {
   "cell_type": "code",
   "execution_count": null,
   "metadata": {},
   "outputs": [],
   "source": []
  }
 ],
 "metadata": {
  "kernelspec": {
   "display_name": "Python 3",
   "language": "python",
   "name": "python3"
  },
  "language_info": {
   "codemirror_mode": {
    "name": "ipython",
    "version": 3
   },
   "file_extension": ".py",
   "mimetype": "text/x-python",
   "name": "python",
   "nbconvert_exporter": "python",
   "pygments_lexer": "ipython3",
   "version": "3.7.3"
  }
 },
 "nbformat": 4,
 "nbformat_minor": 2
}
